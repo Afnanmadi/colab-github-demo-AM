{
  "nbformat": 4,
  "nbformat_minor": 0,
  "metadata": {
    "colab": {
      "provenance": []
    },
    "kernelspec": {
      "name": "python3",
      "display_name": "Python 3"
    },
    "language_info": {
      "name": "python"
    }
  },
  "cells": [
    {
      "cell_type": "markdown",
      "source": [
        "**Create a Vector and a Matrix**"
      ],
      "metadata": {
        "id": "Y_8sY1LQR1lA"
      }
    },
    {
      "cell_type": "code",
      "execution_count": null,
      "metadata": {
        "id": "5vAbn4mgRmzQ"
      },
      "outputs": [],
      "source": [
        "import numpy as np\n",
        "\n",
        "# Vector\n",
        "vector = np.array([1, 2, 3])\n",
        "\n",
        "# Matrix\n",
        "matrix = np.array([[1, 2, 3],\n",
        "                   [4, 5, 6],\n",
        "                   [7, 8, 9]])"
      ]
    },
    {
      "cell_type": "markdown",
      "source": [
        " **Operations**"
      ],
      "metadata": {
        "id": "pxZ1-KF9R6Ij"
      }
    },
    {
      "cell_type": "code",
      "source": [
        "matrix_addition = matrix + matrix\n"
      ],
      "metadata": {
        "id": "m9wkOlkBR7iP"
      },
      "execution_count": null,
      "outputs": []
    },
    {
      "cell_type": "code",
      "source": [
        "matrix_multiplication = np.dot(matrix, matrix)\n"
      ],
      "metadata": {
        "id": "ZwiI0Sh2Svxt"
      },
      "execution_count": null,
      "outputs": []
    },
    {
      "cell_type": "code",
      "source": [
        "matrix_transposition = matrix.T\n"
      ],
      "metadata": {
        "id": "c4drHWXZSfs9"
      },
      "execution_count": null,
      "outputs": []
    },
    {
      "cell_type": "code",
      "source": [
        "print(\"Vector:\")\n",
        "print(vector)\n",
        "\n",
        "print(\"\\nMatrix:\")\n",
        "print(matrix)\n",
        "\n",
        "print(\"\\nMatrix Addition (matrix + matrix):\")\n",
        "print(matrix_addition)\n",
        "\n",
        "print(\"\\nMatrix Multiplication (matrix dot matrix):\")\n",
        "print(matrix_multiplication)\n",
        "\n",
        "print(\"\\nMatrix Transposition:\")\n",
        "print(matrix_transposition)"
      ],
      "metadata": {
        "colab": {
          "base_uri": "https://localhost:8080/"
        },
        "id": "zXNs9hDWSnyU",
        "outputId": "0f199a11-4c7f-4481-bdee-52500aa9d1b2"
      },
      "execution_count": null,
      "outputs": [
        {
          "output_type": "stream",
          "name": "stdout",
          "text": [
            "Vector:\n",
            "[1 2 3]\n",
            "\n",
            "Matrix:\n",
            "[[1 2 3]\n",
            " [4 5 6]\n",
            " [7 8 9]]\n",
            "\n",
            "Matrix Addition (matrix + matrix):\n",
            "[[ 2  4  6]\n",
            " [ 8 10 12]\n",
            " [14 16 18]]\n",
            "\n",
            "Matrix Multiplication (matrix dot matrix):\n",
            "[[ 30  36  42]\n",
            " [ 66  81  96]\n",
            " [102 126 150]]\n",
            "\n",
            "Matrix Transposition:\n",
            "[[1 4 7]\n",
            " [2 5 8]\n",
            " [3 6 9]]\n"
          ]
        }
      ]
    },
    {
      "cell_type": "markdown",
      "source": [
        "**Calculus for Optimization**"
      ],
      "metadata": {
        "id": "kRBBgxZuTO_Y"
      }
    },
    {
      "cell_type": "code",
      "source": [
        "def f(x):\n",
        "    return x**2\n",
        "\n",
        "def f_prime(x):\n",
        "    return 2 * x\n"
      ],
      "metadata": {
        "id": "XOmsD91rTJs5"
      },
      "execution_count": null,
      "outputs": []
    },
    {
      "cell_type": "code",
      "source": [
        "def gradient_descent(starting_point, learning_rate, iterations):\n",
        "    x = starting_point\n",
        "    history = [x]\n",
        "    for _ in range(iterations):\n",
        "        grad = f_prime(x)\n",
        "        x = x - learning_rate * grad\n",
        "        history.append(x)\n",
        "    return x, history\n",
        "\n",
        "# Parameters\n",
        "starting_point = 10\n",
        "learning_rate = 0.1\n",
        "iterations = 20\n",
        "\n",
        "# Run Gradient Descent\n",
        "final_x, history = gradient_descent(starting_point, learning_rate, iterations)\n",
        "print(\"Final minimum x:\", final_x)\n",
        "print(\"History of x values:\")\n",
        "print(history)\n",
        "\n"
      ],
      "metadata": {
        "colab": {
          "base_uri": "https://localhost:8080/"
        },
        "id": "bBS15QrETQrb",
        "outputId": "4717ff10-ab4f-4eff-e99a-0f85fe5f6053"
      },
      "execution_count": null,
      "outputs": [
        {
          "output_type": "stream",
          "name": "stdout",
          "text": [
            "Final minimum x: 0.11529215046068471\n",
            "History of x values:\n",
            "[10, 8.0, 6.4, 5.12, 4.096, 3.2768, 2.62144, 2.0971520000000003, 1.6777216000000004, 1.3421772800000003, 1.0737418240000003, 0.8589934592000003, 0.6871947673600002, 0.5497558138880001, 0.43980465111040007, 0.35184372088832006, 0.281474976710656, 0.22517998136852482, 0.18014398509481985, 0.14411518807585588, 0.11529215046068471]\n"
          ]
        }
      ]
    },
    {
      "cell_type": "markdown",
      "source": [
        "**Probability in Machine Learning**"
      ],
      "metadata": {
        "id": "8Ej7IOqOToZe"
      }
    },
    {
      "cell_type": "code",
      "source": [
        "import scipy.stats as stats\n",
        "\n",
        "# Define mean and standard deviation\n",
        "mean = 0\n",
        "std_dev = 1\n",
        "\n",
        "# Create a normal distribution object\n",
        "distribution = stats.norm(loc=mean, scale=std_dev)\n"
      ],
      "metadata": {
        "id": "6dusWGAUTyhD"
      },
      "execution_count": null,
      "outputs": []
    },
    {
      "cell_type": "code",
      "source": [
        "# P(-1 < x < 1)\n",
        "prob_within_one_std = distribution.cdf(1) - distribution.cdf(-1)\n",
        "print(\"Probability within one standard deviation:\", prob_within_one_std)\n"
      ],
      "metadata": {
        "colab": {
          "base_uri": "https://localhost:8080/"
        },
        "id": "2ceDOIXIT1VS",
        "outputId": "e40eefa4-3127-4e9d-8f7c-50b1cd7741e8"
      },
      "execution_count": null,
      "outputs": [
        {
          "output_type": "stream",
          "name": "stdout",
          "text": [
            "Probability within one standard deviation: 0.6826894921370859\n"
          ]
        }
      ]
    },
    {
      "cell_type": "markdown",
      "source": [
        "**Time Series Analysis**"
      ],
      "metadata": {
        "id": "m6HT92XWT6Xq"
      }
    },
    {
      "cell_type": "code",
      "source": [
        "import numpy as np\n",
        "import pandas as pd\n",
        "import matplotlib.pyplot as plt\n",
        "\n",
        "# Time series components\n",
        "np.random.seed(0)\n",
        "time = np.arange(50)\n",
        "trend = time * 0.5\n",
        "seasonality = 10 * np.sin(time * 2 * np.pi / 12)\n",
        "noise = np.random.normal(scale=2, size=50)\n",
        "\n",
        "# Final series = trend + seasonality + noise\n",
        "series = trend + seasonality + noise\n"
      ],
      "metadata": {
        "id": "7z-3ge0WT7xY"
      },
      "execution_count": null,
      "outputs": []
    },
    {
      "cell_type": "code",
      "source": [
        "dates = pd.date_range(start='2020-01', periods=50, freq='M')\n",
        "time_series = pd.Series(series, index=dates)\n"
      ],
      "metadata": {
        "colab": {
          "base_uri": "https://localhost:8080/"
        },
        "id": "VX6Se5mhUDZd",
        "outputId": "384972b4-193c-4dea-9b2f-0a26dec8d5b3"
      },
      "execution_count": null,
      "outputs": [
        {
          "output_type": "stream",
          "name": "stderr",
          "text": [
            "<ipython-input-16-a83c003c4d66>:1: FutureWarning: 'M' is deprecated and will be removed in a future version, please use 'ME' instead.\n",
            "  dates = pd.date_range(start='2020-01', periods=50, freq='M')\n"
          ]
        }
      ]
    },
    {
      "cell_type": "code",
      "source": [
        "plt.figure(figsize=(10, 4))\n",
        "plt.plot(time_series)\n",
        "plt.title('Synthetic Time Series with Trend and Seasonality')\n",
        "plt.xlabel('Date')\n",
        "plt.ylabel('Value')\n",
        "plt.grid(True)\n",
        "plt.tight_layout()\n",
        "plt.show()\n"
      ],
      "metadata": {
        "colab": {
          "base_uri": "https://localhost:8080/",
          "height": 407
        },
        "id": "CBHUHUt1UHM2",
        "outputId": "2151914c-0286-450c-a471-2ae994038e85"
      },
      "execution_count": null,
      "outputs": [
        {
          "output_type": "display_data",
          "data": {
            "text/plain": [
              "<Figure size 1000x400 with 1 Axes>"
            ],
            "image/png": "[encoded data removed]"
          },
          "metadata": {}
        }
      ]
    },
    {
      "cell_type": "markdown",
      "source": [
        "**Implementing a Machine Learning Model**"
      ],
      "metadata": {
        "id": "my-1R5hsUIjv"
      }
    },
    {
      "cell_type": "code",
      "source": [
        "from sklearn.metrics import accuracy_score, precision_score, recall_score, f1_score\n",
        "\n",
        "# True (actual) and predicted labels\n",
        "y_true = [1, 0, 1, 1, 0, 1, 0, 0, 1, 0]\n",
        "y_pred = [1, 0, 1, 0, 0, 1, 0, 1, 1, 0]\n"
      ],
      "metadata": {
        "id": "XlN_ll9DUaD1"
      },
      "execution_count": null,
      "outputs": []
    },
    {
      "cell_type": "code",
      "source": [
        "accuracy = accuracy_score(y_true, y_pred)\n",
        "precision = precision_score(y_true, y_pred)\n",
        "recall = recall_score(y_true, y_pred)\n",
        "f1 = f1_score(y_true, y_pred)\n",
        "\n",
        "print(\"Accuracy:\", accuracy)\n",
        "print(\"Precision:\", precision)\n",
        "print(\"Recall:\", recall)\n",
        "print(\"F1 Score:\", f1)\n"
      ],
      "metadata": {
        "colab": {
          "base_uri": "https://localhost:8080/"
        },
        "id": "_2uoQxEbUfVy",
        "outputId": "4616c6e8-1814-4660-9069-a6313484b42f"
      },
      "execution_count": null,
      "outputs": [
        {
          "output_type": "stream",
          "name": "stdout",
          "text": [
            "Accuracy: 0.8\n",
            "Precision: 0.8\n",
            "Recall: 0.8\n",
            "F1 Score: 0.8\n"
          ]
        }
      ]
    }
  ]
}